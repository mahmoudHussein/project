{
 "cells": [
  {
   "cell_type": "code",
   "execution_count": null,
   "metadata": {
    "collapsed": false
   },
   "outputs": [],
   "source": [
    "import csv, os, shutil\n",
    "topics = []\n",
    "directory = 'M:\\masters\\semester 4\\web scraping\\output files\\TopicStats'\n",
    "for filename in os.listdir(directory):\n",
    "    if filename.endswith(\".csv\"):\n",
    "        Actualfilename = filename.split(\".\")\n",
    "        topics.append(Actualfilename[0])\n",
    "print(len(topics))"
   ]
  },
  {
   "cell_type": "code",
   "execution_count": null,
   "metadata": {
    "collapsed": false
   },
   "outputs": [],
   "source": [
    "#test for one topic syria\n",
    "csvfile = open('M:\\masters\\semester 4\\web scraping\\output files\\TopicStats\\Syria.csv', newline='') \n",
    "spamreader = csv.reader(csvfile, delimiter=',')\n",
    "\n",
    "speechesDirectory = 'M:\\masters\\semester 4\\ProjectData\\SyriaSpeeches'\n",
    "csvOutputFile = open('M:\\masters\\semester 4\\ProjectData\\AllData2016Test.csv', 'a') \n",
    "\n",
    "word2vecDirectory = 'M:\\masters\\semester 4\\ProjectData\\SyriaSpeechesWord2Vec'\n",
    "TagMeDirectory = 'M:\\masters\\semester 4\\ProjectData\\SyriaSpeechesTagMe'\n",
    "rdf2vecDirectory = 'M:\\masters\\semester 4\\ProjectData\\SyriaSpeechesRdf2vec'\n",
    "\n",
    "\n",
    "#write the header of the file (doesn't have to be on the loop)\n",
    "fieldnames = ['MP', 'Party', 'Topic','Date','speeches', 'word2vec', 'TagMe', 'rdf2vec']\n",
    "writer = csv.DictWriter(csvOutputFile, fieldnames=fieldnames)\n",
    "writer.writeheader()\n",
    "\n",
    "CSVStatsMpNames = []\n",
    "CSVStatsMpParty = []\n",
    "SubjectName = [] #contains the files names (topic+date)\n",
    "MpNamesFolder = [] #contains the names of the MPs\n",
    "\n",
    "rowData = [] #will hold the all data needed to write one row in the csv file\n",
    "\n",
    "for row in spamreader: #saving mpnames and parties from the statistics file\n",
    "    mpname = row[0].strip()\n",
    "    mpparty = row[1].strip()\n",
    "    if(mpname not in CSVStatsMpNames):#to avoid the replication of MPs\n",
    "        #MpNamesFolder.append(mpname)\n",
    "        rowData.insert(0,mpname)\n",
    "        rowData.insert(1,mpparty)\n",
    "    if not row[2]:                  #incase the speech doesn't have a date present in the document\n",
    "        SubjectNamePDate = mpname.replace(\" \", \"_\")+\"_\"+\"Syria\"+\".txt\"\n",
    "        SubjectName.append(SubjectNamePDate)\n",
    "        writer.writerow({'MP': rowData[0], 'Party': rowData[1], 'Topic': \"syria\",'Date':'','speeches':os.path.join(speechesDirectory,SubjectNamePDate),'word2vec':os.path.join(word2vecDirectory,SubjectNamePDate),'TagMe':os.path.join(TagMeDirectory,SubjectNamePDate),'rdf2vec':os.path.join(rdf2vecDirectory,SubjectNamePDate)}) #write the data in the list\n",
    "        #print(SubjectNamePDate)\n",
    "    else:                           # returns subjectName Plus Dates of the speech\n",
    "        SubjectDate = row[2].replace(\" \", \"_\")\n",
    "        SubjectNamePDate = mpname.replace(\" \", \"_\")+\"_\"+\"Syria\"+'_'+SubjectDate+\".txt\"\n",
    "        SubjectName.append(SubjectNamePDate)\n",
    "        writer.writerow({'MP': rowData[0], 'Party': rowData[1], 'Topic': \"syria\",'Date':SubjectDate,'speeches':os.path.join(speechesDirectory,SubjectNamePDate),'word2vec':os.path.join(word2vecDirectory,SubjectNamePDate),'TagMe':os.path.join(TagMeDirectory,SubjectNamePDate),'rdf2vec':os.path.join(rdf2vecDirectory,SubjectNamePDate)}) #write the data in the list\n",
    "\n",
    "csvOutputFile.close()\n",
    "    \n",
    "\n",
    "\n"
   ]
  },
  {
   "cell_type": "code",
   "execution_count": null,
   "metadata": {
    "collapsed": true
   },
   "outputs": [],
   "source": [
    "#for all folders\n",
    "DataDirectory = 'M:\\masters\\semester 4\\web scraping\\output files\\TopicData\\\\2016_2015' #directory of the data      \n",
    "csvDirectory = 'M:\\masters\\semester 4\\web scraping\\output files\\TopicStats'\n",
    "csvOutputFile = open('M:\\masters\\semester 4\\ProjectData\\AllData2016.csv', 'w') \n",
    "\n",
    "#write the header of the file (doesn't have to be on the loop)\n",
    "fieldnames = ['MP', 'Party', 'Topic','Date','speeches', 'word2vec', 'TagMe', 'rdf2vec']\n",
    "writer = csv.DictWriter(csvOutputFile, fieldnames=fieldnames)\n",
    "writer.writeheader()\n",
    "\n",
    "\n",
    "for topic in topics: #loops on each topic that is present in the topics list\n",
    "    csvFileName = topic + '.csv' + \"\" #adds the csv extension to each of the topic name (to be retrived from the topicStats file)\n",
    "    csvFileDirectory = os.path.join(csvDirectory, csvFileName) #creates the path for the certain topic csv file\n",
    "    csvFile = open(csvFileDirectory, newline='')\n",
    "    spamreader = csv.reader(csvFile, delimiter=',')\n",
    "    MpNamesFolder = [] #a list with all the mp names in the (Topic).csv from the 2016_2015 statistics\n",
    "    SubjectName = [] #a list with the names that should be present in the mp folders from the downloaded data\n",
    "    \n",
    "    #constructs a specific directory for each topic need to replace spaces with underscore to match the folders names in \"projectData\" folder\n",
    "    speechesDirectory = \"M:\\\\masters\\\\semester 4\\\\ProjectData\\\\2016_2015\\\\\"+topic.replace(' ','_')+\"\\\\speeches\" \n",
    "    word2vecDirectory = \"M:\\\\masters\\\\semester 4\\\\ProjectData\\\\2016_2015\\\\\"+topic.replace(' ','_')+\"\\\\word2vec\" \n",
    "    TagMeDirectory = \"M:\\\\masters\\\\semester 4\\\\ProjectData\\\\2016_2015\\\\\"+topic.replace(' ','_')+\"\\\\tagMe\" \n",
    "    rdf2vecDirectory = \"M:\\\\masters\\\\semester 4\\\\ProjectData\\\\2016_2015\\\\\"+topic.replace(' ','_')+\"\\\\rdf2vec\" \n",
    "    \n",
    "    rowData = [] #will hold the all data needed to write one row in the csv file\n",
    "\n",
    "    #print(copydirectory)\n",
    "    \n",
    "    #read every line in the csv and extract the name and save it in MpNamesFolder, create the file name and append it to the SubjectName\n",
    "    #List, Every item in the MpNamesFolder corresponds to the Items in SubjectName list.\n",
    "    for row in spamreader:\n",
    "        mpname = row[0].strip()\n",
    "        mpparty = row[1].strip()\n",
    "        rowData.insert(0,mpname)\n",
    "        rowData.insert(1,mpparty)\n",
    "        if not row[2]:                  #incase the speech doesn't have a date present in the document\n",
    "            SubjectNamePDate = mpname.replace(\" \", \"_\")+\"_\"+topic.replace(' ','_')+\".txt\"\n",
    "            #SubjectName.append(SubjectNamePDate)\n",
    "            writer.writerow({'MP': rowData[0], 'Party': rowData[1], 'Topic': topic.strip(),'Date':'','speeches':os.path.join(speechesDirectory,SubjectNamePDate),'word2vec':os.path.join(word2vecDirectory,SubjectNamePDate),'TagMe':os.path.join(TagMeDirectory,SubjectNamePDate),'rdf2vec':os.path.join(rdf2vecDirectory,SubjectNamePDate)}) #write the data in the list\n",
    "\n",
    "            #print(SubjectNamePDate)\n",
    "        else:                           # returns subjectName Plus Dates of the speech\n",
    "            SubjectDate = row[2].replace(\" \", \"_\")\n",
    "            SubjectNamePDate = mpname.replace(\" \", \"_\")+\"_\"+topic.replace(' ','_')+'_'+SubjectDate+\".txt\"\n",
    "            #SubjectName.append(SubjectNamePDate)\n",
    "            writer.writerow({'MP': rowData[0], 'Party': rowData[1], 'Topic': topic.strip(),'Date':SubjectDate,'speeches':os.path.join(speechesDirectory,SubjectNamePDate),'word2vec':os.path.join(word2vecDirectory,SubjectNamePDate),'TagMe':os.path.join(TagMeDirectory,SubjectNamePDate),'rdf2vec':os.path.join(rdf2vecDirectory,SubjectNamePDate)}) #write the data in the list\n",
    "\n",
    "csvOutputFile.close()\n",
    "\n",
    "\n"
   ]
  },
  {
   "cell_type": "code",
   "execution_count": null,
   "metadata": {
    "collapsed": true
   },
   "outputs": [],
   "source": []
  },
  {
   "cell_type": "code",
   "execution_count": null,
   "metadata": {
    "collapsed": true
   },
   "outputs": [],
   "source": []
  }
 ],
 "metadata": {
  "anaconda-cloud": {},
  "kernelspec": {
   "display_name": "Python [default]",
   "language": "python",
   "name": "python3"
  },
  "language_info": {
   "codemirror_mode": {
    "name": "ipython",
    "version": 3
   },
   "file_extension": ".py",
   "mimetype": "text/x-python",
   "name": "python",
   "nbconvert_exporter": "python",
   "pygments_lexer": "ipython3",
   "version": "3.5.2"
  }
 },
 "nbformat": 4,
 "nbformat_minor": 1
}
