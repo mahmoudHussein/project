{
 "cells": [
  {
   "cell_type": "code",
   "execution_count": 1,
   "metadata": {
    "collapsed": false
   },
   "outputs": [
    {
     "name": "stderr",
     "output_type": "stream",
     "text": [
      "C:\\Users\\d066372\\Desktop\\Anaconda\\lib\\site-packages\\gensim\\utils.py:843: UserWarning: detected Windows; aliasing chunkize to chunkize_serial\n",
      "  warnings.warn(\"detected Windows; aliasing chunkize to chunkize_serial\")\n"
     ]
    },
    {
     "name": "stdout",
     "output_type": "stream",
     "text": [
      "Performing 30 training epochs with 4 threads\n",
      "Epoch 0\n",
      "Epoch 1\n",
      "Epoch 2\n",
      "Epoch 3\n",
      "Epoch 4\n",
      "Epoch 5\n",
      "Epoch 6\n",
      "Epoch 7\n",
      "Epoch 8\n",
      "Epoch 9\n",
      "Epoch 10\n",
      "Epoch 11\n",
      "Epoch 12\n",
      "Epoch 13\n",
      "Epoch 14\n",
      "Epoch 15\n",
      "Epoch 16\n",
      "Epoch 17\n",
      "Epoch 18\n",
      "Epoch 19\n",
      "Epoch 20\n",
      "Epoch 21\n",
      "Epoch 22\n",
      "Epoch 23\n",
      "Epoch 24\n",
      "Epoch 25\n",
      "Epoch 26\n",
      "Epoch 27\n",
      "Epoch 28\n",
      "Epoch 29\n"
     ]
    },
    {
     "data": {
      "text/plain": [
       "[('woman', 0.79747789780896983),\n",
       " ('spider', 0.78684620007346262),\n",
       " ('girl', 0.77008731661397856),\n",
       " ('young', 0.76804998320673501)]"
      ]
     },
     "execution_count": 1,
     "metadata": {},
     "output_type": "execute_result"
    }
   ],
   "source": [
    "import itertools\n",
    "from gensim.models.word2vec import Text8Corpus\n",
    "from glove import Corpus, Glove\n",
    "\n",
    "sentences = list(itertools.islice(Text8Corpus('text8'),None))\n",
    "corpus = Corpus()\n",
    "corpus.fit(sentences, window=10)\n",
    "glove = Glove(no_components=100, learning_rate=0.05)\n",
    "glove.fit(corpus.matrix, epochs=30, no_threads=4, verbose=True)\n",
    "glove.add_dictionary(corpus.dictionary)\n",
    "glove.most_similar('man')"
   ]
  },
  {
   "cell_type": "code",
   "execution_count": 2,
   "metadata": {
    "collapsed": false
   },
   "outputs": [
    {
     "data": {
      "text/plain": [
       "[('woman', 0.79747789780896983),\n",
       " ('spider', 0.78684620007346262),\n",
       " ('girl', 0.77008731661397856),\n",
       " ('young', 0.76804998320673501),\n",
       " ('wise', 0.74629442214582242),\n",
       " ('isle', 0.70921547169264432),\n",
       " ('benimens', 0.67958513962672362),\n",
       " ('person', 0.67110830048753534),\n",
       " ('terc', 0.66071620077300031)]"
      ]
     },
     "execution_count": 2,
     "metadata": {},
     "output_type": "execute_result"
    }
   ],
   "source": [
    "glove.most_similar('man', number=10)"
   ]
  },
  {
   "cell_type": "code",
   "execution_count": 3,
   "metadata": {
    "collapsed": false
   },
   "outputs": [
    {
     "data": {
      "text/plain": [
       "[('mysterious', 0.67864948130916014),\n",
       " ('giant', 0.678308892945648),\n",
       " ('dome', 0.67725835839149373),\n",
       " ('shark', 0.67379267242525775),\n",
       " ('snake', 0.66135659972905347),\n",
       " ('panda', 0.6560503260189039),\n",
       " ('moth', 0.65457693176013976),\n",
       " ('stenella', 0.64922069044047914),\n",
       " ('pseudorca', 0.63664778779269526)]"
      ]
     },
     "execution_count": 3,
     "metadata": {},
     "output_type": "execute_result"
    }
   ],
   "source": [
    "glove.most_similar('frog', number=10)"
   ]
  },
  {
   "cell_type": "code",
   "execution_count": 4,
   "metadata": {
    "collapsed": false
   },
   "outputs": [
    {
     "data": {
      "text/plain": [
       "[('young', 0.78292327201384204),\n",
       " ('man', 0.77008731661397878),\n",
       " ('wise', 0.75171049710567006),\n",
       " ('woman', 0.74074934968214823),\n",
       " ('baby', 0.72761922082649833),\n",
       " ('spider', 0.70829447117362243),\n",
       " ('girls', 0.6923431259934647),\n",
       " ('teenage', 0.69097000939017439),\n",
       " ('handsome', 0.66219325164095288)]"
      ]
     },
     "execution_count": 4,
     "metadata": {},
     "output_type": "execute_result"
    }
   ],
   "source": [
    "glove.most_similar('girl', number=10)"
   ]
  },
  {
   "cell_type": "code",
   "execution_count": 5,
   "metadata": {
    "collapsed": false
   },
   "outputs": [
    {
     "data": {
      "text/plain": [
       "[('driver', 0.87812900135691607),\n",
       " ('race', 0.85448286698778231),\n",
       " ('taxi', 0.75744971707374109),\n",
       " ('cars', 0.71845268714421684),\n",
       " ('accident', 0.70283721037199798),\n",
       " ('crash', 0.70042759253081388),\n",
       " ('cable', 0.670362670087435),\n",
       " ('racing', 0.66844952573993532),\n",
       " ('touring', 0.65534210912169422)]"
      ]
     },
     "execution_count": 5,
     "metadata": {},
     "output_type": "execute_result"
    }
   ],
   "source": [
    "glove.most_similar('car', number=10)"
   ]
  },
  {
   "cell_type": "code",
   "execution_count": 6,
   "metadata": {
    "collapsed": false
   },
   "outputs": [
    {
     "data": {
      "text/plain": [
       "[('elizabeth', 0.92807472591848994),\n",
       " ('victoria', 0.86680726620370951),\n",
       " ('mary', 0.79587054088156495),\n",
       " ('anne', 0.78340039830553532),\n",
       " ('tudor', 0.70492135677112744),\n",
       " ('prince', 0.70449097901643742),\n",
       " ('princess', 0.68670007717304149),\n",
       " ('consort', 0.6847631302667434),\n",
       " ('wollstonecraft', 0.68202318631931669)]"
      ]
     },
     "execution_count": 6,
     "metadata": {},
     "output_type": "execute_result"
    }
   ],
   "source": [
    "glove.most_similar('queen', number=10)"
   ]
  }
 ],
 "metadata": {
  "kernelspec": {
   "display_name": "Python [default]",
   "language": "python",
   "name": "python3"
  },
  "language_info": {
   "codemirror_mode": {
    "name": "ipython",
    "version": 3
   },
   "file_extension": ".py",
   "mimetype": "text/x-python",
   "name": "python",
   "nbconvert_exporter": "python",
   "pygments_lexer": "ipython3",
   "version": "3.5.2"
  }
 },
 "nbformat": 4,
 "nbformat_minor": 1
}
