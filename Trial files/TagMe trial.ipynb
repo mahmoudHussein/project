{
 "cells": [
  {
   "cell_type": "code",
   "execution_count": null,
   "metadata": {
    "collapsed": false
   },
   "outputs": [],
   "source": [
    "import tagme, os\n",
    "\n",
    "directory = \"C:\\\\Users\\\\d066372\\\\Desktop\\\\Thesis\\\\Python\\\\testText.txt\"\n",
    "fileText = open(directory).read()\n",
    "splitFileText = fileText.split('\\n')\n",
    "\n",
    "for line in splitFileText:\n",
    "    print(\"new line here: \" , line)\n",
    "\n",
    "#print(fileText)\n",
    "\n",
    "tagme.GCUBE_TOKEN = \"bd8f93c8-dcec-4c5b-a348-3d3dfbcfec62-843339462\"\n",
    "\n",
    "lunch_annotations = tagme.annotate(\"My favourite meal is Mexican burritos.\")\n",
    "test_annotations = tagme.annotate(\"Recent poll show President Obama opening up a small lead over GOP rival Mitt Romney\")\n",
    "test_Large_text = tagme.annotate(fileText)\n",
    "annotations = []\n",
    "\n",
    "# Print annotations with a score higher than 0.1\n",
    "for ann in test_Large_text.get_annotations(0.2):\n",
    "    annotations.append(ann.entity_title)\n",
    "    #print(type(ann))\n",
    "    #print(\"Begin : \", ann.begin)\n",
    "    #print(\"End : \",ann.end)\n",
    "    print(\"entity : \", ann.entity_title, \" , \",\"mention : \", ann.mention)\n",
    "    \n",
    "print(annotations)"
   ]
  },
  {
   "cell_type": "code",
   "execution_count": 13,
   "metadata": {
    "collapsed": false
   },
   "outputs": [
    {
     "name": "stdout",
     "output_type": "stream",
     "text": [
      "entity :  Donald Trump  ,  mention :  Trump  ,  score :  0.2324599027633667\n",
      "entity :  Immigration reform  ,  mention :  executive action  ,  score :  0.3340463638305664\n",
      "entity :  Tariff  ,  mention :  tariffs  ,  score :  0.28346097469329834\n",
      "entity :  Donald Trump  ,  mention :  Donald Trump  ,  score :  0.7133097052574158\n",
      "entity :  Republican Party (United States)  ,  mention :  Republican  ,  score :  0.32825228571891785\n",
      "entity :  Donald Trump  ,  mention :  Trump  ,  score :  0.2324599027633667\n",
      "entity :  United States House Committee on Ways and Means  ,  mention :  House Ways and Means Committee  ,  score :  0.26268115639686584\n",
      "entity :  United States House Committee on Ways and Means  ,  mention :  Ways and Means Committee  ,  score :  0.2791364789009094\n",
      "entity :  Chairman  ,  mention :  Chairman  ,  score :  0.17565041780471802\n",
      "entity :  Kevin Brady  ,  mention :  Kevin Brady  ,  score :  0.6462243795394897\n",
      "entity :  Taxation in the United States  ,  mention :  tax  ,  score :  0.3204464912414551\n",
      "entity :  Import  ,  mention :  imports  ,  score :  0.2070392668247223\n",
      "entity :  North American Free Trade Agreement  ,  mention :  North American Free Trade Agreement  ,  score :  0.5\n",
      "entity :  Free trade  ,  mention :  Free Trade  ,  score :  0.46937626600265503\n",
      "entity :  Free trade area  ,  mention :  Free Trade Agreement  ,  score :  0.4467008709907532\n",
      "entity :  Mexico  ,  mention :  Mexico  ,  score :  0.31925755739212036\n",
      "entity :  Canada  ,  mention :  Canada  ,  score :  0.2883731424808502\n",
      "entity :  International trade  ,  mention :  international trading  ,  score :  0.5094043612480164\n",
      "entity :  International trade  ,  mention :  trading partners  ,  score :  0.5035360455513\n",
      "entity :  China  ,  mention :  China  ,  score :  0.34227973222732544\n",
      "entity :  Allies of World War II  ,  mention :  allies  ,  score :  0.19836391508579254\n",
      "entity :  Empire of Japan  ,  mention :  Japan  ,  score :  0.4105924367904663\n",
      "all annotations:  ['Donald Trump', 'Immigration reform', 'Tariff', 'Donald Trump', 'Republican Party (United States)', 'Donald Trump', 'United States House Committee on Ways and Means', 'United States House Committee on Ways and Means', 'Chairman', 'Kevin Brady', 'Taxation in the United States', 'Import', 'North American Free Trade Agreement', 'Free trade', 'Free trade area', 'Mexico', 'Canada', 'International trade', 'International trade', 'China', 'Allies of World War II', 'Empire of Japan']\n"
     ]
    }
   ],
   "source": [
    "import tagme, os\n",
    "\n",
    "tagme.GCUBE_TOKEN = \"bd8f93c8-dcec-4c5b-a348-3d3dfbcfec62-843339462\"\n",
    "\n",
    "directory = \"C:\\\\Users\\\\d066372\\\\Desktop\\\\Thesis\\\\Python\\\\testText.txt\" #read a certain text\n",
    "fileText = open(directory).read() #opens the text file and retrieve the text\n",
    "splitFileText = fileText.split('\\n') #split everyline on its own and save it in a list\n",
    "annotations = [] #have all the entities annotated for a certain text file\n",
    "\n",
    "\n",
    "#loops each line and in the file and annotate it then add the retrieved entities to the annotations list\n",
    "for line in splitFileText:\n",
    "    #print(\"new line here: \" , line)\n",
    "    test_Large_text = tagme.annotate(line)\n",
    "# Print annotations with a score higher than 0.1\n",
    "    for ann in test_Large_text.get_annotations(0.175):\n",
    "        annotations.append(ann.entity_title)\n",
    "        #print(type(ann))\n",
    "        #print(\"Begin : \", ann.begin)\n",
    "        #print(\"End : \",ann.end)\n",
    "        print(\"entity : \", ann.entity_title, \" , \",\"mention : \", ann.mention, \" , \",\"score : \", ann.score)\n",
    "    #print(annotations)\n",
    "\n",
    "text_file = open(\"Output.txt\", \"w\")    \n",
    "for a in annotations:\n",
    "    inputText = a + \" | \"\n",
    "    text_file.write(inputText)\n",
    "    \n",
    "text_file.close()\n",
    "print(\"all annotations: \", annotations)"
   ]
  },
  {
   "cell_type": "code",
   "execution_count": null,
   "metadata": {
    "collapsed": true
   },
   "outputs": [],
   "source": []
  }
 ],
 "metadata": {
  "kernelspec": {
   "display_name": "Python [default]",
   "language": "python",
   "name": "python3"
  },
  "language_info": {
   "codemirror_mode": {
    "name": "ipython",
    "version": 3
   },
   "file_extension": ".py",
   "mimetype": "text/x-python",
   "name": "python",
   "nbconvert_exporter": "python",
   "pygments_lexer": "ipython3",
   "version": "3.5.2"
  }
 },
 "nbformat": 4,
 "nbformat_minor": 1
}
