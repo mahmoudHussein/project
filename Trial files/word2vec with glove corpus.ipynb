{
 "cells": [
  {
   "cell_type": "code",
   "execution_count": 4,
   "metadata": {
    "collapsed": false
   },
   "outputs": [
    {
     "data": {
      "text/plain": [
       "[('queen', 0.8523603081703186)]"
      ]
     },
     "execution_count": 4,
     "metadata": {},
     "output_type": "execute_result"
    }
   ],
   "source": [
    "import re\n",
    "from gensim.models import word2vec\n",
    "\n",
    "#sentences = word2vec.Word2Vec.load()#try here to put the courpus of glove\n",
    "gensim_file='glove_model.txt'\n",
    "model=gensim.models.Word2Vec.load_word2vec_format(gensim_file,binary=False)\n",
    "model.most_similar(positive=['woman', 'king'], negative=['man'], topn=1)"
   ]
  },
  {
   "cell_type": "code",
   "execution_count": 5,
   "metadata": {
    "collapsed": false
   },
   "outputs": [
    {
     "name": "stdout",
     "output_type": "stream",
     "text": [
      "'he' is to 'his' as 'she' is to 'her'\n",
      "'big' is to 'bigger' as 'bad' is to 'worse'\n",
      "'going' is to 'went' as 'being' is to 'was'\n"
     ]
    }
   ],
   "source": [
    "more_examples = [\"he his she\", \"big bigger bad\", \"going went being\"]\n",
    "for example in more_examples:\n",
    "    a, b, x = example.split()\n",
    "    predicted = model.most_similar([x, b], [a])[0][0]\n",
    "    print (\"'%s' is to '%s' as '%s' is to '%s'\" % (a, b, x, predicted))"
   ]
  },
  {
   "cell_type": "code",
   "execution_count": 15,
   "metadata": {
    "collapsed": false
   },
   "outputs": [
    {
     "name": "stdout",
     "output_type": "stream",
     "text": [
      "Grow\n",
      "up\n",
      "Donald\n",
      "Grow\n",
      "up\n",
      "Time\n",
      "to\n",
      "be\n",
      "an\n",
      "adult\n",
      "he\n",
      "said\n",
      "in\n",
      "an\n",
      "interview\n",
      "on\n",
      "PBS\n",
      "Youre\n",
      "president\n",
      "You\n",
      "have\n",
      "got\n",
      "to\n",
      "do\n",
      "something\n",
      "Show\n",
      "us\n",
      "what\n",
      "you\n",
      "have\n",
      "Youre\n",
      "going\n",
      "to\n",
      "propose\n",
      "legislation\n",
      "Were\n",
      "going\n",
      "to\n",
      "get\n",
      "to\n",
      "debate\n",
      "it\n",
      "Let\n",
      "the\n",
      "public\n",
      "decide\n",
      "Let\n",
      "them\n",
      "vote\n",
      "in\n",
      "Congress\n",
      "Lets\n",
      "see\n",
      "what\n",
      "happens\n",
      "Bidens\n",
      "remarks\n",
      "came\n",
      "during\n",
      "a\n",
      "continuing\n",
      "stream\n",
      "of\n",
      "inflammatory\n",
      "Trump\n",
      "tweets\n",
      "including\n",
      "ones\n",
      "that\n",
      "called\n",
      "Senate\n",
      "Democratic\n",
      "minority\n",
      "leader\n",
      "Chuck\n",
      "Schumer\n",
      "a\n",
      "clown\n",
      "mocked\n",
      "Americas\n",
      "intelligence\n",
      "agencies\n",
      "and\n",
      "gave\n",
      "credit\n",
      "to\n",
      "Internet\n",
      "outlaw\n",
      "Julian\n",
      "Assange\n",
      "whose\n",
      "WikiLeaks\n",
      "site\n",
      "aided\n",
      "Russias\n",
      "efforts\n",
      "to\n",
      "influence\n",
      "the\n",
      "2016\n",
      "election\n",
      "done\n"
     ]
    }
   ],
   "source": [
    "#import re\n",
    "\n",
    "BarkingDog = open(\"BarkingDog.txt\", \"r\") #input text file directory should go here\n",
    "text_file = open(\"TestVectorFile.txt\", \"w\") #output text file directory should go here\n",
    "text = BarkingDog.read()\n",
    "#print(text)\n",
    "split_text = text.split(\"\\n\") #splits the text into lines based on new lines\n",
    "split_lines = []\n",
    "for text in split_text:\n",
    "    split_lines = text.split(\" \") #array of the split text , that is re-split into an array of words\n",
    "    for word in split_lines:\n",
    "        clean_word = re.sub(r'[^a-zA-Z0-9 ]',r'', word )\n",
    "        print (clean_word)\n",
    "        if(clean_word != ''):\n",
    "            text_file.write(clean_word.lower()) #used s.lower() to convert the words to lower cases so it can be matched with glove\n",
    "            text_file.write(\" \")\n",
    "            for x in model[clean_word.lower()]:\n",
    "                value = str(x)\n",
    "                text_file.write(value)\n",
    "                text_file.write(\" \")\n",
    "        \n",
    "    split_lines.clear()\n",
    "text_file.close()\n",
    "print(\"done\")"
   ]
  },
  {
   "cell_type": "code",
   "execution_count": 17,
   "metadata": {
    "collapsed": false
   },
   "outputs": [
    {
     "data": {
      "text/plain": [
       "array([  1.78429997e+00,  -7.58350015e-01,  -5.37590027e-01,\n",
       "        -1.90259993e-01,  -1.24060002e-03,  -5.43940008e-01,\n",
       "        -4.11929995e-01,   3.89899999e-01,  -1.74700007e-01,\n",
       "         3.82450014e-01,   2.33030006e-01,   6.56009972e-01,\n",
       "         5.21160007e-01,  -2.51509994e-01,   3.26110013e-02,\n",
       "        -1.22090006e+00,  -8.54539990e-01,  -5.38510025e-01,\n",
       "         6.72649980e-01,  -4.65039998e-01,  -1.17770004e+00,\n",
       "        -1.48599994e+00,  -7.09680021e-02,   1.60559997e-01,\n",
       "        -3.05680007e-01,   1.26320004e+00,   4.79030004e-03,\n",
       "         3.66409987e-01,  -4.31129992e-01,  -1.20510006e+00,\n",
       "        -1.02999997e+00,   8.44850004e-01,  -4.72429991e-01,\n",
       "         6.07280016e-01,  -1.49890006e-01,  -9.49360013e-01,\n",
       "         4.32980001e-01,  -4.71540004e-01,  -3.18320006e-01,\n",
       "        -2.42149998e-02,  -5.22010028e-01,  -1.14750004e+00,\n",
       "        -4.25760001e-01,  -5.65090001e-01,  -1.42639995e-01,\n",
       "        -4.71639991e-01,  -3.27630013e-01,  -2.85809994e-01,\n",
       "         6.56939983e-01,   8.43990028e-01], dtype=float32)"
      ]
     },
     "execution_count": 17,
     "metadata": {},
     "output_type": "execute_result"
    }
   ],
   "source": [
    "model[\"bidens\"]"
   ]
  },
  {
   "cell_type": "code",
   "execution_count": null,
   "metadata": {
    "collapsed": true
   },
   "outputs": [],
   "source": []
  }
 ],
 "metadata": {
  "anaconda-cloud": {},
  "kernelspec": {
   "display_name": "Python [default]",
   "language": "python",
   "name": "python3"
  },
  "language_info": {
   "codemirror_mode": {
    "name": "ipython",
    "version": 3
   },
   "file_extension": ".py",
   "mimetype": "text/x-python",
   "name": "python",
   "nbconvert_exporter": "python",
   "pygments_lexer": "ipython3",
   "version": "3.5.2"
  }
 },
 "nbformat": 4,
 "nbformat_minor": 1
}
