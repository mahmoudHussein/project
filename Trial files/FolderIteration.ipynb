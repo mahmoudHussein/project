{
 "cells": [
  {
   "cell_type": "code",
   "execution_count": null,
   "metadata": {
    "collapsed": false
   },
   "outputs": [],
   "source": [
    "import csv, os \n",
    "MpNamesFolder = []\n",
    "SubjectName = []\n",
    "spamreader = ''\n",
    "directory = 'M:\\masters\\semester 4\\web scraping\\output files\\TopicStats'\n",
    "for filename in os.listdir(directory):\n",
    "    if filename.endswith(\".csv\"):\n",
    "        Actualfilename = filename.split(\".\")\n",
    "        #print(Actualfilename[0])\n",
    "        #print(filename)\n",
    "        #print(os.path.join(directory, filename))\n",
    "        fileDirectory = os.path.join(directory, filename)\n",
    "        for row in spamreader:\n",
    "            csvfile = open(fileDirectory, newline='') \n",
    "            spamreader = csv.reader(csvfile, delimiter=',')\n",
    "            MpNamesFolder.append(row[0])\n",
    "            SubjectNamePDate = Actualfilename[0]+'_'+row[2]\n",
    "            print(SubjectNamePDate)\n",
    "    #print(row[0])\n",
    "    #print(', '.join(row))\n",
    "#for name in MpNamesFolder:\n",
    " #   print(name)"
   ]
  },
  {
   "cell_type": "code",
   "execution_count": null,
   "metadata": {
    "collapsed": true
   },
   "outputs": [],
   "source": []
  }
 ],
 "metadata": {
  "anaconda-cloud": {},
  "kernelspec": {
   "display_name": "Python [default]",
   "language": "python",
   "name": "python3"
  },
  "language_info": {
   "codemirror_mode": {
    "name": "ipython",
    "version": 3
   },
   "file_extension": ".py",
   "mimetype": "text/x-python",
   "name": "python",
   "nbconvert_exporter": "python",
   "pygments_lexer": "ipython3",
   "version": "3.5.2"
  }
 },
 "nbformat": 4,
 "nbformat_minor": 1
}
