{
 "cells": [
  {
   "cell_type": "code",
   "execution_count": null,
   "metadata": {
    "collapsed": false
   },
   "outputs": [],
   "source": [
    "#creating folders with the topic names and their sub folders\n",
    "import csv, os \n",
    "topics = []\n",
    "directory = 'M:\\masters\\semester 4\\web scraping\\output files\\TopicStats'\n",
    "TargetDirectory = 'M:\\\\masters\\\\semester 4\\\\ProjectData\\\\2016_2015'\n",
    "for filename in os.listdir(directory):\n",
    "    if filename.endswith(\".csv\"):\n",
    "        Actualfilename = filename.split(\".\")\n",
    "        topics.append(Actualfilename[0])\n",
    "        newMainFolderDirectory = os.path.join(TargetDirectory, Actualfilename[0].replace(' ', '_'))\n",
    "        #print(\"done \", newMainFolderDirectory)\n",
    "        #print(os.path.exists(newMainFolderDirectory))\n",
    "        if not os.path.exists(newMainFolderDirectory):\n",
    "            os.makedirs(newMainFolderDirectory)\n",
    "            word2vecDirectory = os.path.join(newMainFolderDirectory, \"word2vec\")\n",
    "            if not os.path.exists(word2vecDirectory):\n",
    "                os.mkdir(word2vecDirectory)\n",
    "            rdf2vecDirectory = os.path.join(newMainFolderDirectory, \"rdf2vec\")\n",
    "            if not os.path.exists(rdf2vecDirectory):\n",
    "                os.mkdir(rdf2vecDirectory)\n",
    "            tagMeDirectory = os.path.join(newMainFolderDirectory, \"tagMe\")\n",
    "            if not os.path.exists(tagMeDirectory):\n",
    "                os.mkdir(tagMeDirectory)\n",
    "            TextDirectory = os.path.join(newMainFolderDirectory, \"speeches\")\n",
    "            if not os.path.exists(TextDirectory):\n",
    "                os.mkdir(TextDirectory)\n",
    "\n",
    "print(len(topics))\n",
    "\n",
    "        #fileDirectory = os.path.join(directory, filename)\n",
    "        #csvfile = open(fileDirectory, newline='')\n",
    "        #spamreader = csv.reader(csvfile, delimiter=',')\n",
    "        #for row in spamreader:\n",
    "        #    MpNamesFolder.append(row[0])\n",
    "        #    SubjectNamePDate = Actualfilename[0].replace(' ','_')+'_'+row[2].replace(' ','_') # matches the files name with the ones in the mps folders\n",
    "        #    print(SubjectNamePDate)\n"
   ]
  },
  {
   "cell_type": "code",
   "execution_count": null,
   "metadata": {
    "collapsed": false
   },
   "outputs": [],
   "source": [
    "#creating folders with the topic names and their sub folders\n",
    "import csv, os \n",
    "topics = []\n",
    "directory = 'M:\\masters\\semester 4\\web scraping\\output files\\TopicStats'\n",
    "for filename in os.listdir(directory):\n",
    "    if filename.endswith(\".csv\"):\n",
    "        Actualfilename = filename.split(\".\")\n",
    "        topics.append(Actualfilename[0])\n",
    "print(len(topics))"
   ]
  },
  {
   "cell_type": "code",
   "execution_count": null,
   "metadata": {
    "collapsed": false
   },
   "outputs": [],
   "source": [
    "#getting data from general folder of 2016_2015 and redistrbuting according to topic (for a bigger goal of having a huge file with everything)\n",
    "import csv, os, shutil\n",
    "\n",
    "DataDirectory = 'M:\\masters\\semester 4\\web scraping\\output files\\TopicData\\\\2016_2015' #directory of the data      \n",
    "csvDirectory = 'M:\\masters\\semester 4\\web scraping\\output files\\TopicStats'\n",
    "for topic in topics: #loops on each topic that is present in the topics list\n",
    "    csvFileName = topic + '.csv' + \"\" #adds the csv extension to each of the topic name (to be retrived from the topicStats file)\n",
    "    csvFileDirectory = os.path.join(csvDirectory, csvFileName) #creates the path for the certain topic csv file\n",
    "    csvFile = open(csvFileDirectory, newline='')\n",
    "    spamreader = csv.reader(csvFile, delimiter=',')\n",
    "    MpNamesFolder = [] #a list with all the mp names in the (Topic).csv from the 2016_2015 statistics\n",
    "    SubjectName = [] #a list with the names that should be present in the mp folders from the downloaded data\n",
    "    \n",
    "    #constructs a specific directory for each topic need to replace spaces with underscore to match the folders names in \"projectData\" folder\n",
    "    copyDirectory = \"M:\\\\masters\\\\semester 4\\\\ProjectData\\\\2016_2015\\\\\"+topic.replace(' ','_')+\"\\\\speeches\" \n",
    "    #print(copydirectory)\n",
    "    \n",
    "    #read every line in the csv and extract the name and save it in MpNamesFolder, create the file name and append it to the SubjectName\n",
    "    #List, Every item in the MpNamesFolder corresponds to the Items in SubjectName list.\n",
    "    for row in spamreader:\n",
    "        MpNamesFolder.append(row[0])\n",
    "        if not row[2]:                  #incase the speech doesn't have a date present in the document\n",
    "            SubjectNamePDate = topic.replace(' ','_')+\".txt\"\n",
    "            SubjectName.append(SubjectNamePDate)\n",
    "            #print(SubjectNamePDate)\n",
    "        else:                           # returns subjectName Plus Dates of the speech\n",
    "            SubjectDate = row[2].replace(\" \", \"_\")\n",
    "            SubjectNamePDate = topic.replace(' ','_')+'_'+SubjectDate+\".txt\"\n",
    "            SubjectName.append(SubjectNamePDate)\n",
    "            #print(SubjectNamePDate)\n",
    "            #print(row[0])\n",
    "            #print(', '.join(row))\n",
    "        \n",
    "    folderDirectory = \"\"\n",
    "    fileDirectory = \"\"\n",
    "    counter = 0\n",
    "    for name in MpNamesFolder:\n",
    "        filename = SubjectName[counter]  #eg. filename =  100000_Genomes_Project.txt\n",
    "        #print(\"filename = \", filename)\n",
    "        foldername = name.strip()        #foldername =  George Freeman\n",
    "        #print(\"foldername = \", foldername)\n",
    "        folderDirectory = os.path.join(DataDirectory,foldername) #eg. folderdirectory =  M:\\masters\\semester 4\\web scraping\\output files\\TopicData\\2016_2015\\George Freeman\n",
    "        #print(\"folderdirectory = \", folderDirectory)\n",
    "        counter = counter + 1\n",
    "        fileDirectory = os.path.join(folderDirectory, filename) # M:\\masters\\semester 4\\web scraping\\output files\\TopicData\\2016_2015\\George Freeman\\100000_Genomes_Project.txt\n",
    "        #print(\"fileDirectoryname = \", fileDirectory)\n",
    "        folderNameClean = foldername.replace(\" \", \"_\")\n",
    "        newFileName = folderNameClean+\"_\"+filename #eg. George_Freeman_100000_Genomes_Project.txt\n",
    "        #print(fileDirectory)\n",
    "        if (os.path.isfile(fileDirectory)): #checks if the file exists in the files for this MP\n",
    "            try:\n",
    "                shutil.copy(fileDirectory, copyDirectory) #copies the file from \"fileDirectory\" to the \"copyDirectory\"\n",
    "                newDstFileName = os.path.join(copyDirectory, newFileName)\n",
    "                fileToBeRenamed = os.path.join(copyDirectory, filename)\n",
    "                os.rename(fileToBeRenamed, newDstFileName)\n",
    "                #print(newDstFileName, \" done copying\")\n",
    "            except:\n",
    "                print(\"File Already exists\")\n"
   ]
  },
  {
   "cell_type": "code",
   "execution_count": null,
   "metadata": {
    "collapsed": false
   },
   "outputs": [],
   "source": []
  },
  {
   "cell_type": "code",
   "execution_count": null,
   "metadata": {
    "collapsed": true
   },
   "outputs": [],
   "source": []
  }
 ],
 "metadata": {
  "anaconda-cloud": {},
  "kernelspec": {
   "display_name": "Python [default]",
   "language": "python",
   "name": "python3"
  },
  "language_info": {
   "codemirror_mode": {
    "name": "ipython",
    "version": 3
   },
   "file_extension": ".py",
   "mimetype": "text/x-python",
   "name": "python",
   "nbconvert_exporter": "python",
   "pygments_lexer": "ipython3",
   "version": "3.5.2"
  }
 },
 "nbformat": 4,
 "nbformat_minor": 1
}
